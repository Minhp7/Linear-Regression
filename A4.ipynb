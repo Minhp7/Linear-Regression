{
 "cells": [
  {
   "cell_type": "code",
   "execution_count": 1,
   "id": "a6857c60",
   "metadata": {},
   "outputs": [],
   "source": [
    "import numpy as np\n",
    "import matplotlib.pyplot as plt\n",
    "from sklearn import datasets, linear_model\n",
    "from sklearn.metrics import mean_squared_error, r2_score\n",
    "from sklearn.feature_selection import chi2\n",
    "\n",
    "import requests\n",
    "from bs4 import BeautifulSoup\n",
    "\n",
    "import pandas as pd\n",
    "\n",
    "%load_ext autoreload\n",
    "%autoreload 2"
   ]
  },
  {
   "cell_type": "code",
   "execution_count": 2,
   "id": "27793560",
   "metadata": {},
   "outputs": [],
   "source": [
    "headers = {'User-Agent': \n",
    "           'Mozilla/5.0 (X11; Linux x86_64) AppleWebKit/537.36 (KHTML, like Gecko) Chrome/47.0.2526.106 Safari/537.36'}\n",
    "\n",
    "wiki = \"https://en.wikipedia.org/wiki/Men%27s_100_metres_world_record_progression\"\n",
    "\n",
    "#Get URL\n",
    "pageTree = requests.get(wiki, headers=headers)\n",
    "\n",
    "#Scrape webpage\n",
    "pageSoup = BeautifulSoup(pageTree.content, 'html.parser')"
   ]
  },
  {
   "cell_type": "code",
   "execution_count": 3,
   "id": "4195357d",
   "metadata": {},
   "outputs": [],
   "source": [
    "table = pageSoup.find_all('table')[4]\n",
    "df = pd.read_html(str(table))\n",
    "df = pd.concat(df)\n"
   ]
  },
  {
   "cell_type": "code",
   "execution_count": 4,
   "id": "7e08d7bc",
   "metadata": {},
   "outputs": [],
   "source": [
    "df.drop(['Duration of record', 'Notes[note 2]','Location of race', 'Wind', 'Auto', 'Athlete', 'Nationality'], axis=1, inplace=True)"
   ]
  },
  {
   "cell_type": "code",
   "execution_count": 5,
   "id": "24c81592",
   "metadata": {},
   "outputs": [],
   "source": [
    "df['Year'] = df['Date'].str[-4: ]"
   ]
  },
  {
   "cell_type": "code",
   "execution_count": 6,
   "id": "b6eddc39",
   "metadata": {},
   "outputs": [],
   "source": [
    "new_df = pd.DataFrame(df, columns = ['Time', 'Year'])"
   ]
  },
  {
   "cell_type": "code",
   "execution_count": 7,
   "id": "8c68e131",
   "metadata": {},
   "outputs": [
    {
     "data": {
      "text/html": [
       "<div>\n",
       "<style scoped>\n",
       "    .dataframe tbody tr th:only-of-type {\n",
       "        vertical-align: middle;\n",
       "    }\n",
       "\n",
       "    .dataframe tbody tr th {\n",
       "        vertical-align: top;\n",
       "    }\n",
       "\n",
       "    .dataframe thead th {\n",
       "        text-align: right;\n",
       "    }\n",
       "</style>\n",
       "<table border=\"1\" class=\"dataframe\">\n",
       "  <thead>\n",
       "    <tr style=\"text-align: right;\">\n",
       "      <th></th>\n",
       "      <th>Time</th>\n",
       "      <th>Year</th>\n",
       "    </tr>\n",
       "  </thead>\n",
       "  <tbody>\n",
       "    <tr>\n",
       "      <th>0</th>\n",
       "      <td>10.06</td>\n",
       "      <td>1964</td>\n",
       "    </tr>\n",
       "    <tr>\n",
       "      <th>1</th>\n",
       "      <td>10.03</td>\n",
       "      <td>1968</td>\n",
       "    </tr>\n",
       "    <tr>\n",
       "      <th>2</th>\n",
       "      <td>10.02</td>\n",
       "      <td>1968</td>\n",
       "    </tr>\n",
       "    <tr>\n",
       "      <th>3</th>\n",
       "      <td>9.95</td>\n",
       "      <td>1968</td>\n",
       "    </tr>\n",
       "    <tr>\n",
       "      <th>4</th>\n",
       "      <td>9.93</td>\n",
       "      <td>1983</td>\n",
       "    </tr>\n",
       "    <tr>\n",
       "      <th>5</th>\n",
       "      <td>9.83</td>\n",
       "      <td>1987</td>\n",
       "    </tr>\n",
       "    <tr>\n",
       "      <th>6</th>\n",
       "      <td>9.93</td>\n",
       "      <td>1987</td>\n",
       "    </tr>\n",
       "    <tr>\n",
       "      <th>7</th>\n",
       "      <td>9.93</td>\n",
       "      <td>1988</td>\n",
       "    </tr>\n",
       "    <tr>\n",
       "      <th>8</th>\n",
       "      <td>9.79</td>\n",
       "      <td>1988</td>\n",
       "    </tr>\n",
       "    <tr>\n",
       "      <th>9</th>\n",
       "      <td>9.92</td>\n",
       "      <td>1988</td>\n",
       "    </tr>\n",
       "    <tr>\n",
       "      <th>10</th>\n",
       "      <td>9.90</td>\n",
       "      <td>1991</td>\n",
       "    </tr>\n",
       "    <tr>\n",
       "      <th>11</th>\n",
       "      <td>9.86</td>\n",
       "      <td>1991</td>\n",
       "    </tr>\n",
       "    <tr>\n",
       "      <th>12</th>\n",
       "      <td>9.85</td>\n",
       "      <td>1994</td>\n",
       "    </tr>\n",
       "    <tr>\n",
       "      <th>13</th>\n",
       "      <td>9.84</td>\n",
       "      <td>1996</td>\n",
       "    </tr>\n",
       "    <tr>\n",
       "      <th>14</th>\n",
       "      <td>9.79</td>\n",
       "      <td>1999</td>\n",
       "    </tr>\n",
       "    <tr>\n",
       "      <th>15</th>\n",
       "      <td>9.78</td>\n",
       "      <td>2002</td>\n",
       "    </tr>\n",
       "    <tr>\n",
       "      <th>16</th>\n",
       "      <td>9.77</td>\n",
       "      <td>2005</td>\n",
       "    </tr>\n",
       "    <tr>\n",
       "      <th>17</th>\n",
       "      <td>9.77</td>\n",
       "      <td>2006</td>\n",
       "    </tr>\n",
       "    <tr>\n",
       "      <th>18</th>\n",
       "      <td>9.77</td>\n",
       "      <td>2006</td>\n",
       "    </tr>\n",
       "    <tr>\n",
       "      <th>19</th>\n",
       "      <td>9.77</td>\n",
       "      <td>2006</td>\n",
       "    </tr>\n",
       "    <tr>\n",
       "      <th>20</th>\n",
       "      <td>9.74</td>\n",
       "      <td>2007</td>\n",
       "    </tr>\n",
       "    <tr>\n",
       "      <th>21</th>\n",
       "      <td>9.72</td>\n",
       "      <td>2008</td>\n",
       "    </tr>\n",
       "    <tr>\n",
       "      <th>22</th>\n",
       "      <td>9.69</td>\n",
       "      <td>2008</td>\n",
       "    </tr>\n",
       "    <tr>\n",
       "      <th>23</th>\n",
       "      <td>9.58</td>\n",
       "      <td>2009</td>\n",
       "    </tr>\n",
       "  </tbody>\n",
       "</table>\n",
       "</div>"
      ],
      "text/plain": [
       "     Time  Year\n",
       "0   10.06  1964\n",
       "1   10.03  1968\n",
       "2   10.02  1968\n",
       "3    9.95  1968\n",
       "4    9.93  1983\n",
       "5    9.83  1987\n",
       "6    9.93  1987\n",
       "7    9.93  1988\n",
       "8    9.79  1988\n",
       "9    9.92  1988\n",
       "10   9.90  1991\n",
       "11   9.86  1991\n",
       "12   9.85  1994\n",
       "13   9.84  1996\n",
       "14   9.79  1999\n",
       "15   9.78  2002\n",
       "16   9.77  2005\n",
       "17   9.77  2006\n",
       "18   9.77  2006\n",
       "19   9.77  2006\n",
       "20   9.74  2007\n",
       "21   9.72  2008\n",
       "22   9.69  2008\n",
       "23   9.58  2009"
      ]
     },
     "execution_count": 7,
     "metadata": {},
     "output_type": "execute_result"
    }
   ],
   "source": [
    "#Wikipedia's data for men 100m times under \"Records since 1977\" section filtered to display just the times and the corresponding year\n",
    "\n",
    "new_df"
   ]
  },
  {
   "cell_type": "code",
   "execution_count": 8,
   "id": "3cd5bbda",
   "metadata": {},
   "outputs": [],
   "source": [
    "X = new_df['Year']\n",
    "Y = new_df['Time']\n",
    "X = X.astype(float)"
   ]
  },
  {
   "cell_type": "code",
   "execution_count": 9,
   "id": "8b2756c0",
   "metadata": {},
   "outputs": [],
   "source": [
    "def best_fit_line(X,Y):\n",
    "    m = (((X.mean() * Y.mean()) - (X * Y).mean() ) /\n",
    "         ( (X.mean()) ** 2 - (X ** 2 ).mean() ))\n",
    "\n",
    "    b = Y.mean() - m * X.mean()\n",
    "\n",
    "    return m, b"
   ]
  },
  {
   "cell_type": "code",
   "execution_count": 10,
   "id": "e26c21c6",
   "metadata": {},
   "outputs": [],
   "source": [
    "m, b  = best_fit_line(X, Y)"
   ]
  },
  {
   "cell_type": "code",
   "execution_count": 11,
   "id": "2bbb1243",
   "metadata": {},
   "outputs": [
    {
     "name": "stdout",
     "output_type": "stream",
     "text": [
      "regression line: y = -0.0074x + 24.6481\n"
     ]
    }
   ],
   "source": [
    "print(f\"regression line: y = {round(m,4)}x + {round(b,4)}\")"
   ]
  },
  {
   "cell_type": "code",
   "execution_count": 12,
   "id": "345dac6b",
   "metadata": {},
   "outputs": [
    {
     "name": "stdout",
     "output_type": "stream",
     "text": [
      "(Year, Predicted 100 m times): (2023, 9.6149)\n",
      "(Year, Predicted 100 m times): (2024, 9.6075)\n",
      "(Year, Predicted 100 m times): (2025, 9.6001)\n",
      "(Year, Predicted 100 m times): (2026, 9.5926)\n",
      "(Year, Predicted 100 m times): (2027, 9.5852)\n",
      "(Year, Predicted 100 m times): (2028, 9.5778)\n",
      "(Year, Predicted 100 m times): (2029, 9.5703)\n",
      "(Year, Predicted 100 m times): (2030, 9.5629)\n"
     ]
    }
   ],
   "source": [
    "predicted_times = []\n",
    "future_year = []\n",
    "#Predicted men 100m times with the corresponding years from 2023-2030\n",
    "for year in range(2023, 2031):\n",
    "    X_prediction = year\n",
    "    Y_prediction = (m * X_prediction)+b\n",
    "    print(f\"(Year, Predicted 100 m times): ({round(X_prediction,4)}, {round(Y_prediction,4)})\")\n",
    "    \n",
    "    #Store predicted times with corresponding years at every iteration of for loop\n",
    "    predicted_times.append(Y_prediction)\n",
    "    future_year.append(X_prediction)"
   ]
  },
  {
   "cell_type": "code",
   "execution_count": 13,
   "id": "ecf07878",
   "metadata": {},
   "outputs": [
    {
     "name": "stdout",
     "output_type": "stream",
     "text": [
      "R^2 value: 0.84\n"
     ]
    }
   ],
   "source": [
    "# y values of regression line\n",
    "regression_line = [(m*x)+b for x in X]\n",
    "\n",
    "def squared_error(ys_orig, ys_line):\n",
    "    return sum((ys_line - ys_orig) * (ys_line - ys_orig)) # helper function to return the sum of the distances between the two y values squared\n",
    "\n",
    "def R_squared_value(ys_orig,ys_line):\n",
    "    squared_error_regr = squared_error(ys_orig, ys_line) # squared error of regression line\n",
    "    y_mean_line = [np.mean(ys_orig) for y in ys_orig] # horizontal line (mean of y values)\n",
    "    squared_error_y_mean = squared_error(ys_orig, y_mean_line) # squared error of the y mean line\n",
    "    return 1 - (squared_error_regr/squared_error_y_mean)\n",
    "\n",
    "R_squared = R_squared_value(Y, regression_line)\n",
    "print(f\"R^2 value: {round(R_squared,2)}\")"
   ]
  },
  {
   "cell_type": "code",
   "execution_count": 14,
   "id": "2442bf25",
   "metadata": {},
   "outputs": [
    {
     "data": {
      "image/png": "[encoded data removed]",
      "text/plain": [
       "<Figure size 640x480 with 1 Axes>"
      ]
     },
     "metadata": {},
     "output_type": "display_data"
    }
   ],
   "source": [
    "\n",
    "plt.title('Men 100m Predicted Times 2023-2030')\n",
    "plt.scatter(X, Y,color='#5b9dff',label='data')\n",
    "plt.scatter(future_year, predicted_times, color='#fc003f', label=\"predicted\")\n",
    "plt.plot(X, regression_line, color='000000', label='regression line')\n",
    "plt.xlabel('Year')\n",
    "plt.ylabel('Time')\n",
    "plt.legend(loc=1)\n",
    "plt.savefig('100m_Predicted_2023-2030.png', bbox_inches='tight', pad_inches=0)"
   ]
  }
 ],
 "metadata": {
  "kernelspec": {
   "display_name": "Python 3 (ipykernel)",
   "language": "python",
   "name": "python3"
  },
  "language_info": {
   "codemirror_mode": {
    "name": "ipython",
    "version": 3
   },
   "file_extension": ".py",
   "mimetype": "text/x-python",
   "name": "python",
   "nbconvert_exporter": "python",
   "pygments_lexer": "ipython3",
   "version": "3.10.4"
  }
 },
 "nbformat": 4,
 "nbformat_minor": 5
}
